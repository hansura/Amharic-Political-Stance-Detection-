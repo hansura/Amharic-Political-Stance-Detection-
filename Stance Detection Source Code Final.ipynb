{
 "cells": [
  {
   "cell_type": "code",
   "execution_count": 1,
   "id": "a92816a8",
   "metadata": {},
   "outputs": [
    {
     "name": "stdout",
     "output_type": "stream",
     "text": [
      "\n",
      ">>>>> This is L3Morpho, version 3.0 <<<<<\n",
      ">>>>>  and HornMorpho, version 2.5  <<<<<\n"
     ]
    }
   ],
   "source": [
    "import numpy as np\n",
    "from sklearn import datasets\n",
    "from sklearn.semi_supervised import LabelPropagation\n",
    "import pandas as pd\n",
    "from sklearn.semi_supervised import LabelSpreading\n",
    "from sklearn.metrics import classification_report\n",
    "from sklearn.feature_extraction.text import TfidfVectorizer\n",
    "from sklearn.feature_extraction.text import CountVectorizer\n",
    "from sklearn.feature_extraction.text import TfidfVectorizer\n",
    "from sklearn.svm import LinearSVC\n",
    "from sklearn.model_selection import train_test_split\n",
    "from sklearn.metrics import confusion_matrix\n",
    "import pickle\n",
    "import io\n",
    "import sklearn.metrics as metrics\n",
    "from sklearn.metrics import classification_report\n",
    "from sklearn.naive_bayes import MultinomialNB\n",
    "import re\n",
    "import pandas as pd\n",
    "import l3 as l #hornomo\n",
    "import io\n",
    "from contextlib import redirect_stdout\n",
    "import numpy as np\n",
    "import gensim \n",
    "from sklearn.svm import SVC\n",
    "from sklearn import svm\n",
    "from sklearn.semi_supervised import SelfTrainingClassifier\n",
    "from sklearn.metrics import accuracy_score\n",
    "from sklearn.model_selection import cross_val_score"
   ]
  },
  {
   "cell_type": "code",
   "execution_count": 2,
   "id": "fcc206ed",
   "metadata": {},
   "outputs": [],
   "source": [
    "def clean_and_normalized_sentence (list_of_sentences , lable ):\n",
    "    print(list_of_sentences)\n",
    "    cleaned_sentence = {\"msg\":[] , \"labl\": []  }\n",
    "    words_normalized =  {\"msg\":[] , \"labl\": []  }\n",
    "    normalized_word = ''\n",
    "    clean_text = ''\n",
    "    if lable != '':\n",
    "        for (sentence , lable)  in zip (list_of_sentences, lable)  :\n",
    "                    print(sentence)\n",
    "                    sentence = re.sub(r\"/\",\"\", str(sentence))\n",
    "                    sentence=  re.sub(r\"\\_\",\" \", str(sentence))\n",
    "                    sentence = re.sub(r\"[\\W]+\",\" \", str(sentence))\n",
    "                    sentence = re.sub(r\"[a-zA-Z0-9]\",\"\", str(sentence))\n",
    "                    sentence = re.sub(r\"\\s+\", \" \" ,str(sentence))\n",
    "                    sentence = re.sub(r\"^\\s\", \"\", str(sentence))\n",
    "                    sentence = re.sub(r\"^\\s[\\W]\\s\",\" \", str(sentence))\n",
    "                    sentence = re.sub(r\"\\s$\",\"\", str(sentence))\n",
    "                    clean_text = sentence\n",
    "                    cleaned_sentence[\"msg\"].append(clean_text)\n",
    "                    cleaned_sentence[\"labl\"].append(lable)\n",
    "                    clean_text =''\n",
    "    else :\n",
    "         for sentence in list_of_sentences:\n",
    "                    print(sentence)\n",
    "                    sentence = re.sub(r\"/\",\"\", str(sentence))\n",
    "                    sentence=  re.sub(r\"\\_\",\" \", str(sentence))\n",
    "                    sentence = re.sub(r\"[\\W]+\",\" \", str(sentence))\n",
    "                    sentence = re.sub(r\"[a-zA-Z0-9]\",\"\", str(sentence))\n",
    "                    sentence = re.sub(r\"\\s+\", \" \" ,str(sentence))\n",
    "                    sentence = re.sub(r\"^\\s\", \"\", str(sentence))\n",
    "                    sentence = re.sub(r\"^\\s[\\W]\\s\",\" \", str(sentence))\n",
    "                    sentence = re.sub(r\"\\s$\",\"\", str(sentence))\n",
    "                    clean_text = sentence\n",
    "                    cleaned_sentence[\"msg\"].append(clean_text)\n",
    "                    clean_text =''\n",
    "    print(len(cleaned_sentence))\n",
    "    if lable != '':\n",
    "            for (sent , labl)  in zip (cleaned_sentence['msg'], cleaned_sentence['labl']):\n",
    "                words_normalized[\"msg\"].append(word_normaliztion(sent))\n",
    "                words_normalized[\"labl\"].append(cat)\n",
    "    else:\n",
    "            for sent  in cleaned_sentence['msg']:\n",
    "                words_normalized[\"msg\"].append(word_normaliztion(sent))\n",
    "    return words_normalized"
   ]
  },
  {
   "cell_type": "code",
   "execution_count": 3,
   "id": "9ab0e02b",
   "metadata": {},
   "outputs": [],
   "source": [
    "def word_normaliztion(input_token):\n",
    "    rep1=re.sub('[ሃኅኃሐሓኻ]','ሀ',input_token)\n",
    "    rep2=re.sub('[ሑኁዅ]','ሁ',rep1)\n",
    "    rep3=re.sub('[ኂሒኺ]','ሂ',rep2)\n",
    "    rep4=re.sub('[ኌሔዄ]','ሄ',rep3)\n",
    "    rep5=re.sub('[ሕኅ]','ህ',rep4)\n",
    "    rep6=re.sub('[ኆሖኾ]','ሆ',rep5)\n",
    "    rep7=re.sub('[ሠ]','ሰ',rep6)\n",
    "    rep8=re.sub('[ሡ]','ሱ',rep7)\n",
    "    rep9=re.sub('[ሢ]','ሲ',rep8)\n",
    "    rep10=re.sub('[ሣ]','ሳ',rep9)\n",
    "    rep11=re.sub('[ሤ]','ሴ',rep10)\n",
    "    rep12=re.sub('[ሥ]','ስ',rep11)\n",
    "    rep13=re.sub('[ሦ]','ሶ',rep12)\n",
    "    rep14=re.sub('[ዓኣዐ]','አ',rep13)\n",
    "    rep15=re.sub('[ዑ]','ኡ',rep14)\n",
    "    rep16=re.sub('[ዒ]','ኢ',rep15)\n",
    "    rep17=re.sub('[ዔ]','ኤ',rep16)\n",
    "    rep18=re.sub('[ዕ]','እ',rep17)\n",
    "    rep19=re.sub('[ዖ]','ኦ',rep18)\n",
    "    rep20=re.sub('[ጸ]','ፀ',rep19)\n",
    "    rep21=re.sub('[ጹ]','ፁ',rep20)\n",
    "    rep22=re.sub('[ጺ]','ፂ',rep21)\n",
    "    rep23=re.sub('[ጻ]','ፃ',rep22)\n",
    "    rep24=re.sub('[ጼ]','ፄ',rep23)\n",
    "    rep25=re.sub('[ጽ]','ፅ',rep24)\n",
    "    rep26=re.sub('[ጾ]','ፆ',rep25)\n",
    "    return rep26"
   ]
  },
  {
   "cell_type": "code",
   "execution_count": 4,
   "id": "ea714948",
   "metadata": {},
   "outputs": [],
   "source": [
    "def getRootWord(word):\n",
    "    pos2 = 0\n",
    "    s = ''\n",
    "    with redirect_stdout(io.StringIO()) as f:\n",
    "        l.anal_word('am',word , root=False,gram=False,nbest=1 )\n",
    "        s = f.getvalue()\n",
    "    hornmorpho = str(s)\n",
    "    rootWord = ''\n",
    "    #print(hornmorpho)\n",
    "    hornmorpho = re.sub(r\"[\\s\\',:<>?*]\",'',hornmorpho)\n",
    "    hornmorpho = hornmorpho.strip(\"[]\")\n",
    "    #print(hornmorpho)\n",
    "    #print(\"after regular expression added\\n\",hornmorpho)\n",
    "\n",
    "    if hornmorpho.find('stem') != -1:\n",
    "        pos2 =  hornmorpho.find('stem')\n",
    "        #print(pos2)\n",
    "        rootWord = hornmorpho[pos2+4:]\n",
    "    elif hornmorpho.find('citation') !=-1 :\n",
    "        pos2 = hornmorpho.find('citation')\n",
    "        #print(pos2)\n",
    "        rootWord = hornmorpho[pos2+8:]  #find the postion steam start and add navigate 4 char position you get the steam word\n",
    "    elif hornmorpho.find('word') != -1:\n",
    "        pos2 = hornmorpho.find('word')\n",
    "        #print(pos2)\n",
    "        rootWord = hornmorpho[pos2+4:]  #find the postion steam start and add navigate 4 char position you get the steam word\n",
    "        rootWord = rootWord.replace(\"POScopularootne\",\"\")\n",
    "    else:\n",
    "        rootWord = hornmorpho\n",
    "    #print(rootWord)\n",
    "    return rootWord"
   ]
  },
  {
   "cell_type": "code",
   "execution_count": 5,
   "id": "4f02692a",
   "metadata": {},
   "outputs": [],
   "source": [
    "def morphologicalAnalysis(sentences):\n",
    "    count = 1\n",
    "    normalWord = ''\n",
    "    morphoAnalWords = []  #{\"headline\" : [] , \"category\":[] , \"categoryID\" : []}\n",
    "    for sent in sentences :\n",
    "        print(count)\n",
    "        word_from_sent = str(sent).split(\" \")\n",
    "        for word in word_from_sent:\n",
    "            normalWord = normalWord+' '+getRootWord(word)\n",
    "        normalWord = re.sub(r\"^\\s[\\W]\\s\",\" \", normalWord)\n",
    "        normalWord = re.sub(r\"^\\s\",\"\", normalWord)\n",
    "        morphoAnalWords.append(normalWord)\n",
    "        print(count , \" - \", normalWord)\n",
    "        normalWord = ''\n",
    "        count = count + 1\n",
    "        \n",
    "    return morphoAnalWords\n"
   ]
  },
  {
   "cell_type": "code",
   "execution_count": null,
   "id": "1ebc6aff",
   "metadata": {},
   "outputs": [],
   "source": []
  },
  {
   "cell_type": "code",
   "execution_count": null,
   "id": "fda96698",
   "metadata": {},
   "outputs": [],
   "source": []
  },
  {
   "cell_type": "markdown",
   "id": "dd838cac",
   "metadata": {},
   "source": [
    "# Dataset"
   ]
  },
  {
   "cell_type": "code",
   "execution_count": 6,
   "id": "d27bd0ad",
   "metadata": {},
   "outputs": [
    {
     "name": "stdout",
     "output_type": "stream",
     "text": [
      "                                                    msg  \\\n",
      "227                   ስው በዛ ጠራ   ጦርነት ብቻ  አመረተ ዜጋ ህልውና    \n",
      "2045  ሽዋ ተቆጠረ መከላከይ ህይወት ቀጠፍ ፓለቲከኛ እስር ፈታ ወንድም ነፍስ ተ...   \n",
      "1617                          ሌብነት ስራ ደረጉ መራ ጸዳ  በዛ በጣም   \n",
      "2906  ዛሬ ጁባ ኤርፖርት   ተጋራ ወታደር  ድብደባ ፈጸመ  ሌላ ብሄር  ወታደር...   \n",
      "1002             ውስጥ ነካ ላቀ ድጋፍ  ችግር ውስጥ  ተረዳ ቆራጠጠ  አሸነፈ   \n",
      "135                    ልዩነት አጠበበ ወደ ጋራ ተግባባ ደረሰ ላቀ ነገር    \n",
      "718                            ኮራ አለ እንጂ ጀግና  አሳየ አመሰገነ   \n",
      "1720   ታረደ ተሰደደ ስቅይ  እሺ ኑሮ ውድነት ወይስ ዘረኝነት እነ ኦነግ  አማ...   \n",
      "622                         ጋር ፊት በራ ና  መረጠ ምርጫ አርድ ወሰደ   \n",
      "1183  ዋጋ ግሽበት ኢትዮጵያ ፈተና ብቻ ሆነ አለም አቀፈ ማህበረሰብ ችግር ነው ...   \n",
      "\n",
      "                                                  Clean     Target      labl  \\\n",
      "227         ስው ብዛት ጥሩ  ሆኖም ጦርነት ብቻ ሳይሆን አምራች ዜጋና ህልውናም   ብልጽግና ፓርቲ   INFAVOR   \n",
      "2045  በሽዎች የሚቆጠሩ መከላከያችን ህይወታቸውን የቀጠፍ ፓለቲከኛ ከእስር እየፈ...  ብልጽግና ፓርቲ  AGAINIST   \n",
      "1617              ብልፅግና ሌብነትን ስራ ከደረጉ አመራሮች ስፀዳ  በዛ በጣም  ብልጽግና ፓርቲ  AGAINIST   \n",
      "2906  ዛሬ ጁባ ኤርፖርት  በሚሆኑ ተጋሩ ወታደሮች  ድብደባ የፈፀሙት የሚሆኑ ከ...        NaN       NaN   \n",
      "1002     ውስጤን የነካው ትልቅ ድጋፍ  ችግር ውስጥ ሆኖ የሚረዳ ቆራጥ  ታሸንፋለች  ብልጽግና ፓርቲ   INFAVOR   \n",
      "135              ልዩነቶችን በማጥበብ ወደ ጋራ መግባባት መድረስ ትልቅ ነገር   ብልጽግና ፓርቲ   INFAVOR   \n",
      "718                ኮራ በል እንጂ ጀግና መሆንህን አሳይተሀልና እናመሰግናለን  ብልጽግና ፓርቲ   INFAVOR   \n",
      "1720   በመታረድ በመሰደድ መሰቃየት  እሺ በኑሮ ውድነት ወይስ በዘረኝነት የእነ...  ብልጽግና ፓርቲ  AGAINIST   \n",
      "622      ከብልፅግና ጋር ወደፊት ብሩህ ና ብልፅግናን ለመምረጥ የምርጫ ካርድ ውሰዱ  ብልጽግና ፓርቲ   INFAVOR   \n",
      "1183  የዋጋ ግሽበት የኢትዮጵያ ፈተና ብቻ ሳይሆን የአለም አቀፉ ማህበረሰብ ችግ...  ብልጽግና ፓርቲ   INFAVOR   \n",
      "\n",
      "      Stance  \n",
      "227        1  \n",
      "2045       0  \n",
      "1617       0  \n",
      "2906       0  \n",
      "1002       1  \n",
      "135        1  \n",
      "718        1  \n",
      "1720       0  \n",
      "622        1  \n",
      "1183       1  \n"
     ]
    }
   ],
   "source": [
    "proMorpho = pd.read_excel(\"D:\\\\NLP\\\\FINAL\\\\FINAL-MA-PRO.xlsx\")\n",
    "proMorpho.sample(10)\n",
    "labels = proMorpho['Stance']\n",
    "print(proMorpho.sample(10))\n"
   ]
  },
  {
   "cell_type": "code",
   "execution_count": 12,
   "id": "75116f85",
   "metadata": {},
   "outputs": [],
   "source": [
    "proMorpho = pd.DataFrame(proMorpho)\n"
   ]
  },
  {
   "cell_type": "code",
   "execution_count": 13,
   "id": "4a65769a",
   "metadata": {},
   "outputs": [
    {
     "name": "stdout",
     "output_type": "stream",
     "text": [
      "1    1563\n",
      "0    1563\n",
      "Name: Stance, dtype: int64\n",
      "percent 0 50.0\n",
      "percent 1 50.0\n"
     ]
    },
    {
     "data": {
      "text/plain": [
       "<AxesSubplot: xlabel='Stance', ylabel='count'>"
      ]
     },
     "execution_count": 13,
     "metadata": {},
     "output_type": "execute_result"
    },
    {
     "data": {
      "image/png": "[encoded data removed]",
      "text/plain": [
       "<Figure size 640x480 with 1 Axes>"
      ]
     },
     "metadata": {},
     "output_type": "display_data"
    }
   ],
   "source": [
    "import seaborn as sns\n",
    "print(proMorpho['Stance'].value_counts())\n",
    "cnt1 = len(proMorpho[proMorpho['Stance']==1])\n",
    "cnt0 = len(proMorpho[proMorpho['Stance']==0])\n",
    "pct0 = cnt0/(cnt1+cnt0)\n",
    "print('percent 0',round(pct0*100,2))\n",
    "pct1 = cnt1/(cnt0+cnt1)\n",
    "print('percent 1',round(pct1*100,2))\n",
    "sns.set_style('ticks')\n",
    "sns.countplot(x=proMorpho['Stance'],palette='deep') # to show the proportion of the positive and negative label"
   ]
  },
  {
   "cell_type": "code",
   "execution_count": null,
   "id": "f796c8c2",
   "metadata": {},
   "outputs": [],
   "source": []
  },
  {
   "cell_type": "markdown",
   "id": "5df05bae",
   "metadata": {},
   "source": [
    "# BOWS"
   ]
  },
  {
   "cell_type": "code",
   "execution_count": 136,
   "id": "ac1e586b",
   "metadata": {},
   "outputs": [
    {
     "name": "stdout",
     "output_type": "stream",
     "text": [
      "(3126, 2672)\n"
     ]
    }
   ],
   "source": [
    "bow = CountVectorizer(min_df=3)\n",
    "bowsFeaturesPro = bow.fit_transform(proMorpho['msg']).toarray()\n",
    "bowsFeaturesPro.shape\n",
    "labels = proMorpho['Stance']\n",
    "print(bowsFeaturesPro.shape)"
   ]
  },
  {
   "cell_type": "code",
   "execution_count": 137,
   "id": "18a724d7",
   "metadata": {},
   "outputs": [],
   "source": [
    "X_train, X_test, y_train, y_test= train_test_split(bowsFeaturesPro,\n",
    "                                                 labels,\n",
    "                                                 test_size=0.2,\n",
    "                                                 random_state=0)\n"
   ]
  },
  {
   "cell_type": "code",
   "execution_count": 138,
   "id": "869d6074",
   "metadata": {},
   "outputs": [
    {
     "name": "stdout",
     "output_type": "stream",
     "text": [
      "ACCURACY OF THE MODEL:  0.7476038338658147\n",
      "              precision    recall  f1-score   support\n",
      "\n",
      "           0       0.77      0.71      0.74       314\n",
      "           1       0.73      0.79      0.76       312\n",
      "\n",
      "    accuracy                           0.75       626\n",
      "   macro avg       0.75      0.75      0.75       626\n",
      "weighted avg       0.75      0.75      0.75       626\n",
      "\n",
      "[[223  91]\n",
      " [ 67 245]]\n"
     ]
    },
    {
     "data": {
      "image/png": "[encoded data removed]",
      "text/plain": [
       "<Figure size 640x480 with 2 Axes>"
      ]
     },
     "metadata": {},
     "output_type": "display_data"
    },
    {
     "name": "stdout",
     "output_type": "stream",
     "text": [
      "[0.71588635 0.77999648 0.80798771 0.73999584 0.73996255 0.72203871\n",
      " 0.76786629 0.73996255 0.72784324 0.7559961 ]\n"
     ]
    }
   ],
   "source": [
    "# ------------- Build Model SVM using TF-IDF-------------#\n",
    "svmModel = SVC(kernel='linear')\n",
    "\n",
    "svmModel.fit(X_train, y_train)\n",
    "y_pred = svmModel.predict(X_test)\n",
    "\n",
    "print(\"ACCURACY OF THE MODEL: \", accuracy_score(y_test, y_pred))\n",
    "print(classification_report(y_test,y_pred))\n",
    "accuracy_score(y_test,y_pred)\n",
    "\n",
    "## Export model\n",
    "pickle.dump(svmModel, open('D:\\\\NLP\\\\model\\\\pro-svm-model-bow.pkl', 'wb'))\n",
    "pickle.dump(bowsFeaturesPro, open('D:\\\\NLP\\\\model\\\\pro-bow.pkl', 'wb'))\n",
    "\n",
    "## Importing Model\n",
    "svmtfTrainedModel = pickle.load(open('D:\\\\NLP\\\\model\\\\pro-svm-model-bow.pkl', 'rb'))\n",
    "bowsFeaturesPro = pickle.load(open('D:\\\\NLP\\\\model\\\\pro-bow.pkl', 'rb'))\n",
    "\n",
    "\n",
    "confusion_matrix = metrics.confusion_matrix(y_test, y_pred)\n",
    "print(confusion_matrix)\n",
    "import matplotlib.pyplot as plt\n",
    "\n",
    "\n",
    "cm_display = metrics.ConfusionMatrixDisplay(confusion_matrix = confusion_matrix, display_labels = [False, True])\n",
    "cm_display.plot()\n",
    "plt.show()\n",
    "\n",
    "\n",
    "import matplotlib.pyplot as plt\n",
    "\n",
    "scores = cross_val_score( svmtfTrainedModel, X_train, y_train, cv=10, scoring='f1_macro')\n",
    "print(scores)"
   ]
  },
  {
   "cell_type": "markdown",
   "id": "bfbadab6",
   "metadata": {},
   "source": [
    "# BOW + SVM Prediction unseen comments\n"
   ]
  },
  {
   "cell_type": "code",
   "execution_count": 139,
   "id": "190a88c4",
   "metadata": {},
   "outputs": [
    {
     "name": "stdout",
     "output_type": "stream",
     "text": [
      "['ህወሓት ደሞ በተቃራኒው ስምምነቱ ዳር እንዳይደርስ በሙሉ ቁርጠኝነት እየሰራ ነዋ ::', 'መሳርያ የላቸውም በፈለግነው ሰዓት ትግራይ መቆጣጠር እንችላለን አቅም የላቸውም እያልክ አልነበረም እንዴ ቱልቱላ', 'ይህ ሁሉ የሆነው በማሸነፋችን ነው ህወሃት ሂሣብ እናወራርዳለን ፉከራ ወደ ትጥቅ መፍታት ያመጣው።']\n",
      "ህወሓት ደሞ በተቃራኒው ስምምነቱ ዳር እንዳይደርስ በሙሉ ቁርጠኝነት እየሰራ ነዋ ::\n",
      "መሳርያ የላቸውም በፈለግነው ሰዓት ትግራይ መቆጣጠር እንችላለን አቅም የላቸውም እያልክ አልነበረም እንዴ ቱልቱላ\n",
      "ይህ ሁሉ የሆነው በማሸነፋችን ነው ህወሃት ሂሣብ እናወራርዳለን ፉከራ ወደ ትጥቅ መፍታት ያመጣው።\n",
      "2\n",
      "1\n",
      "1  -  ህወሀት ደመመ ተቃራኒ ስምምነት ዳር ደረሰ ሙሉ ቁርጠኝነት ሰራ ነዋ\n",
      "2\n",
      "2  -  ተሳራ አለ ፈለገ ሰአት ትግራይ ተቆጣጠረ ቻለ አቅም አለ አለ ነበረ እንድ ቱልቱላ\n",
      "3\n",
      "3  -  ይህ ሁሉ ሆነ አሸነፈ ነው ህወሀት ሂሳብ አወራረደ ፉከራ ወደ ትጥቅ ፈታ አመጣ\n",
      "[1, 0, 1]\n",
      "******Prediction**********\n",
      "\n",
      "[1, 0, 1]\n"
     ]
    }
   ],
   "source": [
    "\n",
    "#test = ['ህወሓት ደሞ በተቃራኒው ስምምነቱ ዳር ቁርጠኝነት እየሰራ ነዋ ::','አንቺ ነሽ ሌላ ፍላጎት ያለሽ ኦነጋዊነትሽን እያስመስከርሽ ያለሽ']\n",
    "\n",
    "test = ['ህወሓት ደሞ በተቃራኒው ስምምነቱ ዳር እንዳይደርስ በሙሉ ቁርጠኝነት እየሰራ ነዋ ::',\n",
    "        'መሳርያ የላቸውም በፈለግነው ሰዓት ትግራይ መቆጣጠር እንችላለን አቅም የላቸውም እያልክ አልነበረም እንዴ ቱልቱላ',\n",
    "        'ይህ ሁሉ የሆነው በማሸነፋችን ነው ህወሃት ሂሣብ እናወራርዳለን ፉከራ ወደ ትጥቅ መፍታት ያመጣው።']\n",
    "\n",
    "test = clean_and_normalized_sentence(test,'')\n",
    "test = morphologicalAnalysis(test['msg'])\n",
    "unseen_df = pd.DataFrame({'msg':test}) \n",
    "\n",
    "\n",
    "X_unseen = bow.transform(unseen_df['msg']).toarray()\n",
    "y_pred_unseen = svmtfTrainedModel.predict(X_unseen)\n",
    "print(y_pred_unseen.tolist())\n",
    "print('******Prediction**********\\n')\n",
    "print(y_pred_unseen.tolist())"
   ]
  },
  {
   "cell_type": "markdown",
   "id": "b04027d7",
   "metadata": {},
   "source": [
    "# N-gram"
   ]
  },
  {
   "cell_type": "code",
   "execution_count": 14,
   "id": "91cd35f2",
   "metadata": {},
   "outputs": [
    {
     "data": {
      "text/plain": [
       "(3126, 6686)"
      ]
     },
     "execution_count": 14,
     "metadata": {},
     "output_type": "execute_result"
    }
   ],
   "source": [
    "bigram = CountVectorizer(ngram_range=(2,2),min_df=2)\n",
    "bigramFeatures = bigram.fit_transform(proMorpho['msg']).toarray()\n",
    "labels = proMorpho['Stance']\n",
    "\n",
    "bigramFeatures.shape\n"
   ]
  },
  {
   "cell_type": "code",
   "execution_count": null,
   "id": "a67e834f",
   "metadata": {},
   "outputs": [],
   "source": [
    "trigram = CountVectorizer(ngram_range=(3,3))\n",
    "trigramFeatures = trigram.fit_transform(proMorpho['msg']).toarray()\n",
    "trigramFeatures.shape"
   ]
  },
  {
   "cell_type": "code",
   "execution_count": 15,
   "id": "5bebaf07",
   "metadata": {},
   "outputs": [],
   "source": [
    "X_train, X_test, y_train, y_test= train_test_split(bigramFeatures,\n",
    "                                                 labels,\n",
    "                                                 test_size=0.2,\n",
    "                                                 random_state=0)"
   ]
  },
  {
   "cell_type": "code",
   "execution_count": 16,
   "id": "c8b0290e",
   "metadata": {},
   "outputs": [
    {
     "name": "stdout",
     "output_type": "stream",
     "text": [
      "ACCURACY OF THE MODEL:  0.6597444089456869\n",
      "              precision    recall  f1-score   support\n",
      "\n",
      "           0       0.70      0.56      0.62       314\n",
      "           1       0.63      0.76      0.69       312\n",
      "\n",
      "    accuracy                           0.66       626\n",
      "   macro avg       0.67      0.66      0.66       626\n",
      "weighted avg       0.67      0.66      0.66       626\n",
      "\n",
      "[[177 137]\n",
      " [ 76 236]]\n"
     ]
    },
    {
     "data": {
      "image/png": "[encoded data removed]",
      "text/plain": [
       "<Figure size 640x480 with 2 Axes>"
      ]
     },
     "metadata": {},
     "output_type": "display_data"
    },
    {
     "name": "stdout",
     "output_type": "stream",
     "text": [
      "[0.63606366 0.68719024 0.67750258 0.58883588 0.61399897 0.61442067\n",
      " 0.65842054 0.66988728 0.68671679 0.67094038]\n"
     ]
    }
   ],
   "source": [
    "# ------------- Build Model SVM using TF-IDF-------------#\n",
    "svmModel = LinearSVC()\n",
    "\n",
    "svmModel.fit(X_train, y_train)\n",
    "y_pred = svmModel.predict(X_test)\n",
    "\n",
    "print(\"ACCURACY OF THE MODEL: \", accuracy_score(y_test, y_pred))\n",
    "print(classification_report(y_test,y_pred))\n",
    "accuracy_score(y_test,y_pred)\n",
    "\n",
    "## Export model\n",
    "pickle.dump(svmModel, open('D:\\\\NLP\\\\model\\\\pro-svm-model-bi.pkl', 'wb'))\n",
    "pickle.dump(bigramFeatures, open('D:\\\\NLP\\\\model\\\\pro-bi.pkl', 'wb'))\n",
    "\n",
    "## Importing Model\n",
    "svmtfTrainedModel = pickle.load(open('D:\\\\NLP\\\\model\\\\pro-svm-model-bi.pkl', 'rb'))\n",
    "bigramFeatures = pickle.load(open('D:\\\\NLP\\\\model\\\\pro-bi.pkl', 'rb'))\n",
    "\n",
    "\n",
    "confusion_matrix = metrics.confusion_matrix(y_test, y_pred)\n",
    "print(confusion_matrix)\n",
    "import matplotlib.pyplot as plt\n",
    "\n",
    "\n",
    "cm_display = metrics.ConfusionMatrixDisplay(confusion_matrix = confusion_matrix, display_labels = [False, True])\n",
    "cm_display.plot()\n",
    "plt.show()\n",
    "\n",
    "scores = cross_val_score( svmtfTrainedModel, X_train, y_train, cv=10, scoring='f1_macro')\n",
    "print(scores)"
   ]
  },
  {
   "cell_type": "markdown",
   "id": "2f688530",
   "metadata": {},
   "source": [
    "# N-gram + SVM Prediction unseen comments\n"
   ]
  },
  {
   "cell_type": "code",
   "execution_count": 17,
   "id": "b4eb2222",
   "metadata": {},
   "outputs": [
    {
     "name": "stdout",
     "output_type": "stream",
     "text": [
      "['ህወሓት ደሞ በተቃራኒው ስምምነቱ ዳር እንዳይደርስ በሙሉ ቁርጠኝነት እየሰራ ነዋ ::', 'መሳርያ የላቸውም በፈለግነው ሰዓት ትግራይ መቆጣጠር እንችላለን አቅም የላቸውም እያልክ አልነበረም እንዴ ቱልቱላ', 'ይህ ሁሉ የሆነው በማሸነፋችን ነው ህወሃት ሂሣብ እናወራርዳለን ፉከራ ወደ ትጥቅ መፍታት ያመጣው።']\n",
      "ህወሓት ደሞ በተቃራኒው ስምምነቱ ዳር እንዳይደርስ በሙሉ ቁርጠኝነት እየሰራ ነዋ ::\n",
      "መሳርያ የላቸውም በፈለግነው ሰዓት ትግራይ መቆጣጠር እንችላለን አቅም የላቸውም እያልክ አልነበረም እንዴ ቱልቱላ\n",
      "ይህ ሁሉ የሆነው በማሸነፋችን ነው ህወሃት ሂሣብ እናወራርዳለን ፉከራ ወደ ትጥቅ መፍታት ያመጣው።\n",
      "2\n",
      "1\n",
      "1  -  ህወሀት ደመመ ተቃራኒ ስምምነት ዳር ደረሰ ሙሉ ቁርጠኝነት ሰራ ነዋ\n",
      "2\n",
      "2  -  ተሳራ አለ ፈለገ ሰአት ትግራይ ተቆጣጠረ ቻለ አቅም አለ አለ ነበረ እንድ ቱልቱላ\n",
      "3\n",
      "3  -  ይህ ሁሉ ሆነ አሸነፈ ነው ህወሀት ሂሳብ አወራረደ ፉከራ ወደ ትጥቅ ፈታ አመጣ\n",
      "[1, 1, 0]\n",
      "******Prediction**********\n",
      "\n",
      "[1, 1, 0]\n"
     ]
    }
   ],
   "source": [
    "\n",
    "#test = ['ህወሓት ደሞ በተቃራኒው ስምምነቱ ዳር ቁርጠኝነት እየሰራ ነዋ ::','አንቺ ነሽ ሌላ ፍላጎት ያለሽ ኦነጋዊነትሽን እያስመስከርሽ ያለሽ']\n",
    "\n",
    "test = ['ህወሓት ደሞ በተቃራኒው ስምምነቱ ዳር እንዳይደርስ በሙሉ ቁርጠኝነት እየሰራ ነዋ ::',\n",
    "        'መሳርያ የላቸውም በፈለግነው ሰዓት ትግራይ መቆጣጠር እንችላለን አቅም የላቸውም እያልክ አልነበረም እንዴ ቱልቱላ',\n",
    "        'ይህ ሁሉ የሆነው በማሸነፋችን ነው ህወሃት ሂሣብ እናወራርዳለን ፉከራ ወደ ትጥቅ መፍታት ያመጣው።']\n",
    "\n",
    "test = clean_and_normalized_sentence(test,'')\n",
    "test = morphologicalAnalysis(test['msg'])\n",
    "unseen_df = pd.DataFrame({'msg':test}) \n",
    "\n",
    "\n",
    "X_unseen = bigram.transform(unseen_df['msg']).toarray()\n",
    "y_pred_unseen = svmtfTrainedModel.predict(X_unseen)\n",
    "print(y_pred_unseen.tolist())\n",
    "print('******Prediction**********\\n')\n",
    "print(y_pred_unseen.tolist())"
   ]
  },
  {
   "cell_type": "markdown",
   "id": "1ad72270",
   "metadata": {},
   "source": [
    "# TF-IDF"
   ]
  },
  {
   "cell_type": "code",
   "execution_count": 14,
   "id": "2ce5619e",
   "metadata": {},
   "outputs": [
    {
     "name": "stdout",
     "output_type": "stream",
     "text": [
      "[[0. 0. 0. ... 0. 0. 0.]\n",
      " [0. 0. 0. ... 0. 0. 0.]\n",
      " [0. 0. 0. ... 0. 0. 0.]\n",
      " ...\n",
      " [0. 0. 0. ... 0. 0. 0.]\n",
      " [0. 0. 0. ... 0. 0. 0.]\n",
      " [0. 0. 0. ... 0. 0. 0.]]\n",
      "(3126, 3847)\n"
     ]
    }
   ],
   "source": [
    "\n",
    "tfidfpro = TfidfVectorizer(min_df =2)\n",
    "featurespro = tfidfpro.fit_transform(proMorpho['msg']).toarray()\n",
    "labels = proMorpho['Stance']\n",
    "featurespro.shape\n",
    "print(featurespro)\n",
    "print(featurespro.shape)"
   ]
  },
  {
   "cell_type": "code",
   "execution_count": 15,
   "id": "6187a47f",
   "metadata": {},
   "outputs": [],
   "source": [
    "X_train, X_test, y_train, y_test= train_test_split(featurespro,\n",
    "                                                 labels,\n",
    "                                                 test_size=0.2,\n",
    "                                                 random_state=0)"
   ]
  },
  {
   "cell_type": "code",
   "execution_count": 18,
   "id": "afbe15ad",
   "metadata": {},
   "outputs": [
    {
     "name": "stdout",
     "output_type": "stream",
     "text": [
      "ACCURACY OF THE MODEL:  0.8178913738019169\n",
      "              precision    recall  f1-score   support\n",
      "\n",
      "           0       0.81      0.84      0.82       314\n",
      "           1       0.83      0.80      0.81       312\n",
      "\n",
      "    accuracy                           0.82       626\n",
      "   macro avg       0.82      0.82      0.82       626\n",
      "weighted avg       0.82      0.82      0.82       626\n",
      "\n",
      "[[263  51]\n",
      " [ 63 249]]\n"
     ]
    },
    {
     "data": {
      "image/png": "[encoded data removed]",
      "text/plain": [
       "<Figure size 640x480 with 2 Axes>"
      ]
     },
     "metadata": {},
     "output_type": "display_data"
    }
   ],
   "source": [
    "from sklearn.metrics import accuracy_score\n",
    "\n",
    "# ------------- Build Model SVM using TF-IDF-------------#\n",
    "svmModel = SVC()#SVC(C=0.1, gamma=1, kernel='linear')\n",
    "\n",
    "svmModel.fit(X_train, y_train)\n",
    "y_pred = svmModel.predict(X_test)\n",
    "\n",
    "print(\"ACCURACY OF THE MODEL: \", accuracy_score(y_test, y_pred))\n",
    "print(classification_report(y_test,y_pred))\n",
    "accuracy_score(y_test,y_pred)\n",
    "\n",
    "## Export model\n",
    "pickle.dump(svmModel, open('D:\\\\NLP\\\\model\\\\svm-model-tf-pro.pkl', 'wb'))\n",
    "pickle.dump(featurespro, open('D:\\\\NLP\\\\model\\\\tfidf-pro.pkl', 'wb'))\n",
    "\n",
    "## Importing Model\n",
    "svmtfTrainedModel = pickle.load(open('D:\\\\NLP\\\\model\\\\svm-model-tf-pro.pkl', 'rb'))\n",
    "featurespro = pickle.load(open('D:\\\\NLP\\\\model\\\\tfidf-pro.pkl', 'rb'))\n",
    "\n",
    "\n",
    "confusion_matrix = metrics.confusion_matrix(y_test, y_pred)\n",
    "print(confusion_matrix)\n",
    "import matplotlib.pyplot as plt\n",
    "\n",
    "\n",
    "cm_display = metrics.ConfusionMatrixDisplay(confusion_matrix = confusion_matrix, display_labels = [False, True])\n",
    "cm_display.plot()\n",
    "plt.show()\n",
    "\n",
    "#scores = cross_val_score( svmModel, X_train, y_train, cv=10, scoring='f1_macro')\n",
    "#print(scores)\n",
    "\n"
   ]
  },
  {
   "cell_type": "markdown",
   "id": "3dd434db",
   "metadata": {},
   "source": [
    "# TF-IDF + SVM Prediction unseen comments\n"
   ]
  },
  {
   "cell_type": "code",
   "execution_count": 19,
   "id": "4810db8c",
   "metadata": {},
   "outputs": [
    {
     "name": "stdout",
     "output_type": "stream",
     "text": [
      "['ህወሓት ደሞ በተቃራኒው ስምምነቱ ዳር እንዳይደርስ በሙሉ ቁርጠኝነት እየሰራ ነዋ ::', 'መሳርያ የላቸውም በፈለግነው ሰዓት ትግራይ መቆጣጠር እንችላለን አቅም የላቸውም እያልክ አልነበረም እንዴ ቱልቱላ', 'ይህ ሁሉ የሆነው በማሸነፋችን ነው ህወሃት ሂሣብ እናወራርዳለን ፉከራ ወደ ትጥቅ መፍታት ያመጣው።']\n",
      "ህወሓት ደሞ በተቃራኒው ስምምነቱ ዳር እንዳይደርስ በሙሉ ቁርጠኝነት እየሰራ ነዋ ::\n",
      "መሳርያ የላቸውም በፈለግነው ሰዓት ትግራይ መቆጣጠር እንችላለን አቅም የላቸውም እያልክ አልነበረም እንዴ ቱልቱላ\n",
      "ይህ ሁሉ የሆነው በማሸነፋችን ነው ህወሃት ሂሣብ እናወራርዳለን ፉከራ ወደ ትጥቅ መፍታት ያመጣው።\n",
      "2\n",
      "1\n",
      "1  -  ህወሀት ደመመ ተቃራኒ ስምምነት ዳር ደረሰ ሙሉ ቁርጠኝነት ሰራ ነዋ\n",
      "2\n",
      "2  -  ተሳራ አለ ፈለገ ሰአት ትግራይ ቈጣጠረ ቻለ አቅም አለ አለ ነበረ እንድ ቱልቱላ\n",
      "3\n",
      "3  -  ይህ ሁሉ ሆነ አሸነፈ ነው ህወሀት ሂሳብ አወራረደ ፉከራ ወደ ትጥቅ ፈታ አመጣ\n",
      "[1, 0, 1]\n",
      "******Prediction**********\n",
      "\n",
      "[1, 0, 1]\n"
     ]
    }
   ],
   "source": [
    "\n",
    "#test = ['ህወሓት ደሞ በተቃራኒው ስምምነቱ ዳር ቁርጠኝነት እየሰራ ነዋ ::','አንቺ ነሽ ሌላ ፍላጎት ያለሽ ኦነጋዊነትሽን እያስመስከርሽ ያለሽ']\n",
    "\n",
    "test = ['ህወሓት ደሞ በተቃራኒው ስምምነቱ ዳር እንዳይደርስ በሙሉ ቁርጠኝነት እየሰራ ነዋ ::',\n",
    "        'መሳርያ የላቸውም በፈለግነው ሰዓት ትግራይ መቆጣጠር እንችላለን አቅም የላቸውም እያልክ አልነበረም እንዴ ቱልቱላ',\n",
    "        'ይህ ሁሉ የሆነው በማሸነፋችን ነው ህወሃት ሂሣብ እናወራርዳለን ፉከራ ወደ ትጥቅ መፍታት ያመጣው።']\n",
    "\n",
    "test = clean_and_normalized_sentence(test,'')\n",
    "test = morphologicalAnalysis(test['msg'])\n",
    "unseen_df = pd.DataFrame({'msg':test}) \n",
    "\n",
    "\n",
    "X_unseen = tfidfpro.transform(unseen_df['msg']).toarray()\n",
    "y_pred_unseen = svmtfTrainedModel.predict(X_unseen)\n",
    "print(y_pred_unseen.tolist())\n",
    "print('******Prediction**********\\n')\n",
    "print(y_pred_unseen.tolist())"
   ]
  },
  {
   "cell_type": "code",
   "execution_count": null,
   "id": "f2f462da",
   "metadata": {},
   "outputs": [],
   "source": []
  },
  {
   "cell_type": "markdown",
   "id": "12661545",
   "metadata": {},
   "source": [
    "# word2vec"
   ]
  },
  {
   "cell_type": "code",
   "execution_count": 44,
   "id": "62fb4933",
   "metadata": {},
   "outputs": [
    {
     "name": "stdout",
     "output_type": "stream",
     "text": [
      "0                                   [ህብረ, ብሄራዊ, ደነተ, ሀገር]\n",
      "1                 [ለብልጽግን, ጉዞ, ማእድን, ልማት, ላቀ, አስተዋጽኦ, አለ]\n",
      "2                                      [መንገድ, ተደመረ, መዳረሽ]\n",
      "3                      [ተደመረ, ሁሌ, ተዳረሰ, መልካም, መሰረት, አደረገ]\n",
      "4                  [ተደመረ, ተሻለ, ተደመረ, ድህነት, ላቀ, ተደመረ, ሰላም]\n",
      "                              ...                        \n",
      "3121    [ፖሊሲ, ኔግምት, ፖለቲከኛ, ሙያተኛ, ቀረጸ, እድገት, አስመዘገበ, ተቻ...\n",
      "3122    [ፖሪቲያች, ጉራጌ, ዞን, አደረገ, ህግ, ጠሰተ, ከፍተኛ, አሜኔታ, ያሳ...\n",
      "3123    [ፖርቲ, ህግ, በነት, አከበረ, አይደለም, አለስልጣናት, ፍርድ, ቤት, ...\n",
      "3124    [ፖርቲ, ጥቂት, መደላድል, ፈጠረ, ዲሞክራሲያዊነት, ንደጭምብል, ተጠቀመ...\n",
      "3125    [ጭንቅላት, በሰለ, ወፈረ, ተመገበ, ተሻለ, ኦሮሚያ, አንዥበበው, መከራ...\n",
      "Name: msg, Length: 3126, dtype: object\n"
     ]
    }
   ],
   "source": [
    "protokenized = proMorpho['msg'].apply(lambda x: x.split()) # tokenizing \n",
    "print(protokenized)\n"
   ]
  },
  {
   "cell_type": "code",
   "execution_count": 45,
   "id": "1389974d",
   "metadata": {},
   "outputs": [
    {
     "data": {
      "text/plain": [
       "(1716638, 2108310)"
      ]
     },
     "execution_count": 45,
     "metadata": {},
     "output_type": "execute_result"
    }
   ],
   "source": [
    "import time\n",
    "\n",
    "start_time = time.time()\n",
    "size= 3126\n",
    "word2vec_model_file = 'word2vecpro_' + str(size) + '.model'\n",
    "model_w2v = gensim.models.Word2Vec(\n",
    "            protokenized,\n",
    "            vector_size=200, # desired no. of features/independent variables 200\n",
    "            window=10, # context window size   7 #5#8#9 -> 76\n",
    "            min_count=2, #3#4 ->76\n",
    "            sg = 1, # 1 for skip-gram model\n",
    "            #negative = 20, # for negative sampling\n",
    "            #hs=0,\n",
    "            workers= 5)#, # no.of cores\n",
    "            #seed = 60) \n",
    "\n",
    "\n",
    "model_w2v.save(word2vec_model_file)\n",
    "model_w2v.train(protokenized, total_examples= len(protokenized), epochs=30)#30 -< 76\n"
   ]
  },
  {
   "cell_type": "code",
   "execution_count": 46,
   "id": "6389aba0",
   "metadata": {},
   "outputs": [
    {
     "data": {
      "text/plain": [
       "200"
      ]
     },
     "execution_count": 46,
     "metadata": {},
     "output_type": "execute_result"
    }
   ],
   "source": [
    "model_w2v.vector_size"
   ]
  },
  {
   "cell_type": "code",
   "execution_count": 47,
   "id": "16ec8288",
   "metadata": {},
   "outputs": [],
   "source": [
    "def word_vector(tokens, size):\n",
    "    vec = np.zeros(size).reshape((1, size))\n",
    "    count = 0.\n",
    "    for word in tokens:\n",
    "        try:\n",
    "            vec += model_w2v.wv[word].reshape((1, size))\n",
    "            count += 1.\n",
    "        except KeyError: # handling the case where the token is not in vocabulary continue\n",
    "            if count != 0:\n",
    "                vec /= count\n",
    "    return vec"
   ]
  },
  {
   "cell_type": "code",
   "execution_count": 49,
   "id": "0e2759f6",
   "metadata": {},
   "outputs": [
    {
     "name": "stdout",
     "output_type": "stream",
     "text": [
      "(3126, 200)\n",
      "            0         1         2         3         4          5         6    \\\n",
      "0     -1.272514 -0.220223 -0.169092 -0.896795  1.370606  -0.009580 -0.791577   \n",
      "1      0.152303  0.563705  0.547158  1.014119  0.760350  -1.417126  0.208848   \n",
      "2     -0.404499 -0.144673  0.070210 -0.176836  0.735712  -1.086558  0.228623   \n",
      "3     -0.254703  0.340562 -1.067602 -0.047167  1.130367  -3.557040 -0.353382   \n",
      "4     -1.198341  0.520139 -0.287375  0.450668  1.152999  -3.421706 -1.411317   \n",
      "...         ...       ...       ...       ...       ...        ...       ...   \n",
      "3121  -2.556659 -0.663041 -0.000842  2.734613  3.210152  -2.344431  0.868084   \n",
      "3122   0.560597  0.067918  0.046387  0.157247  0.486125  -0.534679  0.488194   \n",
      "3123   1.265242  0.440972  2.768929 -0.741999  1.410207  -0.478774 -0.842130   \n",
      "3124  -2.299485  1.524354  3.265740  4.320645  4.967567  -6.714039  1.474364   \n",
      "3125 -10.515032  4.706147  4.678877  3.035929  4.498101 -17.436665 -5.238361   \n",
      "\n",
      "            7         8          9    ...       190        191        192  \\\n",
      "0      1.688727 -0.409122   0.356549  ...  0.159851   0.132866  -0.397829   \n",
      "1      2.152981 -0.426558   0.832384  ...  1.284051  -0.645175   0.658637   \n",
      "2      1.219058  0.412848  -0.495058  ...  0.182501   0.392216   0.688232   \n",
      "3      1.243258  0.379280  -0.153057  ...  1.918125   1.377756   1.090107   \n",
      "4      3.141738 -0.470511   0.609265  ...  1.490151   0.110488   1.006978   \n",
      "...         ...       ...        ...  ...       ...        ...        ...   \n",
      "3121   0.747914 -1.043167   0.301209  ...  2.464212  -2.044252  -4.133190   \n",
      "3122   0.313947 -0.069673   0.017238  ...  0.131067   0.132111   0.158211   \n",
      "3123   2.533197 -1.338776  -0.700778  ...  2.537048  -2.507439   2.477454   \n",
      "3124   5.603779 -4.275716   1.302786  ...  7.032567  -1.233247  -2.278959   \n",
      "3125  25.033010 -9.465550  13.912257  ...  5.171883 -12.593116 -11.345194   \n",
      "\n",
      "           193       194       195       196       197       198       199  \n",
      "0    -0.926707  0.878127 -0.069284  0.157834 -0.391816  0.203916 -0.624276  \n",
      "1     0.656858  0.521938  0.649831 -0.001982  0.325484  1.141337 -1.092236  \n",
      "2     0.381314 -0.477407 -0.334343  0.980817  0.961863  0.121735 -0.732728  \n",
      "3    -0.247478  0.537783  0.339109  1.648132 -0.108526  0.522004 -2.506525  \n",
      "4    -0.240839 -0.179626  0.003893  1.265472  0.808533  0.057752 -1.811245  \n",
      "...        ...       ...       ...       ...       ...       ...       ...  \n",
      "3121 -3.783393 -3.300440  1.441602  0.602250  0.388136 -0.394813 -2.174906  \n",
      "3122 -0.621165 -0.001557 -0.172975 -0.412478 -0.342728 -0.200590 -0.080516  \n",
      "3123  0.433744  1.739227  0.648902 -0.740448  0.749776 -1.353175  0.191678  \n",
      "3124  1.522549  2.690768  3.050699  1.671094  0.228923 -1.456626 -2.967043  \n",
      "3125  0.294893 -0.253730  6.137079 -2.723345  0.648864 -7.354883 -8.587794  \n",
      "\n",
      "[3126 rows x 200 columns]\n"
     ]
    }
   ],
   "source": [
    "import numpy as np\n",
    "           # vec += model_w2v.wv[word].reshape((1, size))\n",
    "\n",
    "wordvec_arrays = np.zeros((len(protokenized),model_w2v.vector_size)) \n",
    "for i in range(len(protokenized)):\n",
    "    wordvec_arrays[i,:] = word_vector(protokenized[i], model_w2v.vector_size)\n",
    "    wordvec_df = pd.DataFrame(wordvec_arrays)\n",
    "print(wordvec_df.shape)\n",
    "    \n",
    "print(wordvec_df)"
   ]
  },
  {
   "cell_type": "code",
   "execution_count": 50,
   "id": "9f792d8a",
   "metadata": {},
   "outputs": [],
   "source": [
    "X_train, X_test, y_train, y_test= train_test_split(wordvec_df,\n",
    "                                                 labels,\n",
    "                                                 test_size=0.2,\n",
    "                                                 random_state=0)\n"
   ]
  },
  {
   "cell_type": "code",
   "execution_count": 53,
   "id": "ae14c6ee",
   "metadata": {
    "scrolled": false
   },
   "outputs": [
    {
     "name": "stderr",
     "output_type": "stream",
     "text": [
      "C:\\Users\\hansu\\AppData\\Local\\Programs\\Python\\Python311\\Lib\\site-packages\\sklearn\\svm\\_base.py:1244: ConvergenceWarning: Liblinear failed to converge, increase the number of iterations.\n",
      "  warnings.warn(\n"
     ]
    },
    {
     "name": "stdout",
     "output_type": "stream",
     "text": [
      "ACCURACY OF THE MODEL:  0.7460063897763578\n",
      "              precision    recall  f1-score   support\n",
      "\n",
      "           0       0.71      0.85      0.77       314\n",
      "           1       0.81      0.64      0.72       312\n",
      "\n",
      "    accuracy                           0.75       626\n",
      "   macro avg       0.76      0.75      0.74       626\n",
      "weighted avg       0.76      0.75      0.74       626\n",
      "\n",
      "[[266  48]\n",
      " [111 201]]\n"
     ]
    },
    {
     "data": {
      "image/png": "[encoded data removed]",
      "text/plain": [
       "<Figure size 640x480 with 2 Axes>"
      ]
     },
     "metadata": {},
     "output_type": "display_data"
    }
   ],
   "source": [
    "from sklearn.metrics import accuracy_score\n",
    "from sklearn.model_selection import cross_val_score\n",
    "svmModelw2v = LinearSVC() #SVC(kernel='linear',C=12, gamma=0.0001) #LinearSVC() #SVC(C=1, gamma=0.0001)SVC(C=10, gamma=0.0001)\n",
    "svmModelw2v.fit(X_train, y_train)\n",
    "y_pred = svmModelw2v.predict(X_test)\n",
    "\n",
    "print(\"ACCURACY OF THE MODEL: \", accuracy_score(y_test, y_pred))\n",
    "print(classification_report(y_test,y_pred))\n",
    "accuracy_score(y_test,y_pred)\n",
    "\n",
    "## Export model\n",
    "pickle.dump(svmModelw2v, open('D:\\\\NLP\\\\model\\\\word2vec-model-pro.pkl', 'wb'))\n",
    "pickle.dump(model_w2v, open('D:\\\\NLP\\\\model\\\\word2vec-pro.pkl', 'wb'))\n",
    "\n",
    "## Importing Model\n",
    "word2vecSVM = pickle.load(open('D:\\\\NLP\\\\model\\\\word2vec-model-pro.pkl', 'rb'))\n",
    "word2vecFeatures = pickle.load(open('D:\\\\NLP\\\\model\\\\word2vec-pro.pkl', 'rb'))\n",
    "\n",
    "confusion_matrix = metrics.confusion_matrix(y_test, y_pred)\n",
    "print(confusion_matrix)\n",
    "import matplotlib.pyplot as plt\n",
    "\n",
    "\n",
    "cm_display = metrics.ConfusionMatrixDisplay(confusion_matrix = confusion_matrix, display_labels = [False, True])\n",
    "cm_display.plot()\n",
    "plt.show()\n",
    "\n",
    "#from sklearn import metrics\n",
    "#scores = cross_val_score( svmModelw2v, X_train, y_train, cv=10, scoring='f1_macro')\n",
    "#print(scores)"
   ]
  },
  {
   "cell_type": "markdown",
   "id": "86970a8c",
   "metadata": {},
   "source": [
    "# word2vec + SVM Prediction unseen comments"
   ]
  },
  {
   "cell_type": "code",
   "execution_count": 141,
   "id": "d2da3f0d",
   "metadata": {},
   "outputs": [
    {
     "name": "stdout",
     "output_type": "stream",
     "text": [
      "['ህወሓት ደሞ በተቃራኒው ስምምነቱ ዳር እንዳይደርስ በሙሉ ቁርጠኝነት እየሰራ ነዋ ::', 'መሳርያ የላቸውም በፈለግነው ሰዓት ትግራይ መቆጣጠር እንችላለን አቅም የላቸውም እያልክ አልነበረም እንዴ ቱልቱላ', 'ይህ ሁሉ የሆነው በማሸነፋችን ነው ህወሃት ሂሣብ እናወራርዳለን ፉከራ ወደ ትጥቅ መፍታት ያመጣው።']\n",
      "ህወሓት ደሞ በተቃራኒው ስምምነቱ ዳር እንዳይደርስ በሙሉ ቁርጠኝነት እየሰራ ነዋ ::\n",
      "መሳርያ የላቸውም በፈለግነው ሰዓት ትግራይ መቆጣጠር እንችላለን አቅም የላቸውም እያልክ አልነበረም እንዴ ቱልቱላ\n",
      "ይህ ሁሉ የሆነው በማሸነፋችን ነው ህወሃት ሂሣብ እናወራርዳለን ፉከራ ወደ ትጥቅ መፍታት ያመጣው።\n",
      "2\n",
      "1\n",
      "1  -  ህወሀት ደመመ ተቃራኒ ስምምነት ዳር ደረሰ ሙሉ ቁርጠኝነት ሰራ ነዋ\n",
      "2\n",
      "2  -  ተሳራ አለ ፈለገ ሰአት ትግራይ ተቆጣጠረ ቻለ አቅም አለ አለ ነበረ እንድ ቱልቱላ\n",
      "3\n",
      "3  -  ይህ ሁሉ ሆነ አሸነፈ ነው ህወሀት ሂሳብ አወራረደ ፉከራ ወደ ትጥቅ ፈታ አመጣ\n",
      "0    [ህወሀት, ደመመ, ተቃራኒ, ስምምነት, ዳር, ደረሰ, ሙሉ, ቁርጠኝነት, ...\n",
      "1    [ተሳራ, አለ, ፈለገ, ሰአት, ትግራይ, ተቆጣጠረ, ቻለ, አቅም, አለ, ...\n",
      "2    [ይህ, ሁሉ, ሆነ, አሸነፈ, ነው, ህወሀት, ሂሳብ, አወራረደ, ፉከራ, ...\n",
      "Name: msg, dtype: object\n",
      "(3, 200)\n",
      "[0, 0, 1]\n",
      "******Prediction**********\n",
      "\n"
     ]
    }
   ],
   "source": [
    "#import the model\n",
    "word2vecSVM = pickle.load(open('D:\\\\NLP\\\\model\\\\word2vec-model-pro.pkl', 'rb'))\n",
    "word2vecFeatures = pickle.load(open('D:\\\\NLP\\\\model\\\\word2vec-pro.pkl', 'rb'))\n",
    "\n",
    "test = ['ህወሓት ደሞ በተቃራኒው ስምምነቱ ዳር እንዳይደርስ በሙሉ ቁርጠኝነት እየሰራ ነዋ ::',\n",
    "        'መሳርያ የላቸውም በፈለግነው ሰዓት ትግራይ መቆጣጠር እንችላለን አቅም የላቸውም እያልክ አልነበረም እንዴ ቱልቱላ',\n",
    "        'ይህ ሁሉ የሆነው በማሸነፋችን ነው ህወሃት ሂሣብ እናወራርዳለን ፉከራ ወደ ትጥቅ መፍታት ያመጣው።']\n",
    "test = clean_and_normalized_sentence(test,'')\n",
    "test = morphologicalAnalysis(test['msg'])\n",
    "unseen_df = pd.DataFrame({'msg':test}) \n",
    "x_unseen = unseen_df['msg'].apply(lambda x: x.split()) # tokenizing \n",
    "print(x_unseen)\n",
    "import numpy as np\n",
    "wordvec_arrays = np.zeros((len(x_unseen),word2vecFeatures.vector_size)) \n",
    "for i in range(len(x_unseen)):\n",
    "    wordvec_arrays[i,:] = word_vector(x_unseen[i], word2vecFeatures.vector_size)\n",
    "    x_unseen_w2v = pd.DataFrame(wordvec_arrays)\n",
    "print(x_unseen_w2v.shape)\n",
    "y_pred_unseen = word2vecSVM.predict(x_unseen_w2v)\n",
    "print(y_pred_unseen.tolist())\n",
    "print('******Prediction**********\\n')\n"
   ]
  },
  {
   "cell_type": "code",
   "execution_count": null,
   "id": "31d12552",
   "metadata": {},
   "outputs": [],
   "source": []
  },
  {
   "cell_type": "markdown",
   "id": "d887c22c",
   "metadata": {},
   "source": []
  },
  {
   "cell_type": "code",
   "execution_count": 24,
   "id": "f8d5f388",
   "metadata": {},
   "outputs": [],
   "source": [
    "from sklearn.model_selection import GridSearchCV\n"
   ]
  },
  {
   "cell_type": "code",
   "execution_count": null,
   "id": "999e0783",
   "metadata": {},
   "outputs": [],
   "source": [
    "X_train, X_test, y_train, y_test= train_test_split(wordvec_df,\n",
    "                                                 labels,\n",
    "                                                 test_size=0.2,\n",
    "                                                 random_state=0)"
   ]
  },
  {
   "cell_type": "code",
   "execution_count": 34,
   "id": "6bce2e96",
   "metadata": {},
   "outputs": [],
   "source": [
    "X_train, X_test, y_train, y_test= train_test_split(featurespro,\n",
    "                                                 labels,\n",
    "                                                 test_size=0.2,\n",
    "                                                 random_state=0)"
   ]
  },
  {
   "cell_type": "code",
   "execution_count": null,
   "id": "2f71e1da",
   "metadata": {},
   "outputs": [],
   "source": []
  },
  {
   "cell_type": "code",
   "execution_count": null,
   "id": "f9c05794",
   "metadata": {},
   "outputs": [],
   "source": []
  },
  {
   "cell_type": "code",
   "execution_count": null,
   "id": "7a2363de",
   "metadata": {},
   "outputs": [],
   "source": []
  },
  {
   "cell_type": "code",
   "execution_count": 35,
   "id": "78dcdd3f",
   "metadata": {},
   "outputs": [],
   "source": [
    "param_grid = {'C': [0.1, 1, 10, 100, 1000], \n",
    "              'gamma': [1, 0.1, 0.01, 0.001, 0.0001],\n",
    "              'kernel': ['linear']} "
   ]
  },
  {
   "cell_type": "code",
   "execution_count": 36,
   "id": "3e9a2599",
   "metadata": {},
   "outputs": [],
   "source": [
    "grid = GridSearchCV(SVC(), param_grid, refit = True, verbose = 3)\n"
   ]
  },
  {
   "cell_type": "code",
   "execution_count": null,
   "id": "4325a271",
   "metadata": {},
   "outputs": [],
   "source": []
  },
  {
   "cell_type": "code",
   "execution_count": 37,
   "id": "dc06a55f",
   "metadata": {
    "scrolled": false
   },
   "outputs": [
    {
     "name": "stdout",
     "output_type": "stream",
     "text": [
      "Fitting 5 folds for each of 25 candidates, totalling 125 fits\n",
      "[CV 1/5] END .....C=0.1, gamma=1, kernel=linear;, score=0.776 total time=  33.1s\n",
      "[CV 2/5] END .....C=0.1, gamma=1, kernel=linear;, score=0.744 total time=  34.7s\n",
      "[CV 3/5] END .....C=0.1, gamma=1, kernel=linear;, score=0.778 total time=  32.3s\n",
      "[CV 4/5] END .....C=0.1, gamma=1, kernel=linear;, score=0.774 total time=  30.5s\n",
      "[CV 5/5] END .....C=0.1, gamma=1, kernel=linear;, score=0.800 total time=  29.6s\n",
      "[CV 1/5] END ...C=0.1, gamma=0.1, kernel=linear;, score=0.776 total time=  34.9s\n",
      "[CV 2/5] END ...C=0.1, gamma=0.1, kernel=linear;, score=0.744 total time=  34.5s\n",
      "[CV 3/5] END ...C=0.1, gamma=0.1, kernel=linear;, score=0.778 total time=  34.2s\n",
      "[CV 4/5] END ...C=0.1, gamma=0.1, kernel=linear;, score=0.774 total time=  34.0s\n",
      "[CV 5/5] END ...C=0.1, gamma=0.1, kernel=linear;, score=0.800 total time=  34.7s\n",
      "[CV 1/5] END ..C=0.1, gamma=0.01, kernel=linear;, score=0.776 total time=  32.9s\n",
      "[CV 2/5] END ..C=0.1, gamma=0.01, kernel=linear;, score=0.744 total time=  32.1s\n",
      "[CV 3/5] END ..C=0.1, gamma=0.01, kernel=linear;, score=0.778 total time=  35.4s\n",
      "[CV 4/5] END ..C=0.1, gamma=0.01, kernel=linear;, score=0.774 total time=  40.0s\n",
      "[CV 5/5] END ..C=0.1, gamma=0.01, kernel=linear;, score=0.800 total time=  34.3s\n",
      "[CV 1/5] END .C=0.1, gamma=0.001, kernel=linear;, score=0.776 total time=  31.7s\n",
      "[CV 2/5] END .C=0.1, gamma=0.001, kernel=linear;, score=0.744 total time=  30.4s\n",
      "[CV 3/5] END .C=0.1, gamma=0.001, kernel=linear;, score=0.778 total time=  30.3s\n",
      "[CV 4/5] END .C=0.1, gamma=0.001, kernel=linear;, score=0.774 total time=  29.6s\n",
      "[CV 5/5] END .C=0.1, gamma=0.001, kernel=linear;, score=0.800 total time=  32.8s\n",
      "[CV 1/5] END C=0.1, gamma=0.0001, kernel=linear;, score=0.776 total time=  32.2s\n",
      "[CV 2/5] END C=0.1, gamma=0.0001, kernel=linear;, score=0.744 total time=  31.3s\n",
      "[CV 3/5] END C=0.1, gamma=0.0001, kernel=linear;, score=0.778 total time=  32.8s\n",
      "[CV 4/5] END C=0.1, gamma=0.0001, kernel=linear;, score=0.774 total time=  32.3s\n",
      "[CV 5/5] END C=0.1, gamma=0.0001, kernel=linear;, score=0.800 total time=  34.0s\n",
      "[CV 1/5] END .......C=1, gamma=1, kernel=linear;, score=0.762 total time=  25.3s\n",
      "[CV 2/5] END .......C=1, gamma=1, kernel=linear;, score=0.770 total time=  24.2s\n",
      "[CV 3/5] END .......C=1, gamma=1, kernel=linear;, score=0.766 total time=  24.0s\n",
      "[CV 4/5] END .......C=1, gamma=1, kernel=linear;, score=0.780 total time=  24.5s\n",
      "[CV 5/5] END .......C=1, gamma=1, kernel=linear;, score=0.782 total time=  24.6s\n",
      "[CV 1/5] END .....C=1, gamma=0.1, kernel=linear;, score=0.762 total time=  24.2s\n",
      "[CV 2/5] END .....C=1, gamma=0.1, kernel=linear;, score=0.770 total time=  22.8s\n",
      "[CV 3/5] END .....C=1, gamma=0.1, kernel=linear;, score=0.766 total time=  28.3s\n",
      "[CV 4/5] END .....C=1, gamma=0.1, kernel=linear;, score=0.780 total time=  24.9s\n",
      "[CV 5/5] END .....C=1, gamma=0.1, kernel=linear;, score=0.782 total time=  25.6s\n",
      "[CV 1/5] END ....C=1, gamma=0.01, kernel=linear;, score=0.762 total time=  24.5s\n",
      "[CV 2/5] END ....C=1, gamma=0.01, kernel=linear;, score=0.770 total time=  26.7s\n",
      "[CV 3/5] END ....C=1, gamma=0.01, kernel=linear;, score=0.766 total time=  25.1s\n",
      "[CV 4/5] END ....C=1, gamma=0.01, kernel=linear;, score=0.780 total time=  25.3s\n",
      "[CV 5/5] END ....C=1, gamma=0.01, kernel=linear;, score=0.782 total time=  25.5s\n",
      "[CV 1/5] END ...C=1, gamma=0.001, kernel=linear;, score=0.762 total time=  25.5s\n",
      "[CV 2/5] END ...C=1, gamma=0.001, kernel=linear;, score=0.770 total time=  26.1s\n",
      "[CV 3/5] END ...C=1, gamma=0.001, kernel=linear;, score=0.766 total time=  25.8s\n",
      "[CV 4/5] END ...C=1, gamma=0.001, kernel=linear;, score=0.780 total time=  25.6s\n",
      "[CV 5/5] END ...C=1, gamma=0.001, kernel=linear;, score=0.782 total time=  26.2s\n",
      "[CV 1/5] END ..C=1, gamma=0.0001, kernel=linear;, score=0.762 total time=  25.0s\n",
      "[CV 2/5] END ..C=1, gamma=0.0001, kernel=linear;, score=0.770 total time=  25.6s\n",
      "[CV 3/5] END ..C=1, gamma=0.0001, kernel=linear;, score=0.766 total time=  26.4s\n",
      "[CV 4/5] END ..C=1, gamma=0.0001, kernel=linear;, score=0.780 total time=  25.9s\n",
      "[CV 5/5] END ..C=1, gamma=0.0001, kernel=linear;, score=0.782 total time=  25.0s\n",
      "[CV 1/5] END ......C=10, gamma=1, kernel=linear;, score=0.736 total time=  29.5s\n",
      "[CV 2/5] END ......C=10, gamma=1, kernel=linear;, score=0.754 total time=  28.7s\n",
      "[CV 3/5] END ......C=10, gamma=1, kernel=linear;, score=0.722 total time=  28.8s\n",
      "[CV 4/5] END ......C=10, gamma=1, kernel=linear;, score=0.750 total time=  28.0s\n",
      "[CV 5/5] END ......C=10, gamma=1, kernel=linear;, score=0.768 total time=  27.7s\n",
      "[CV 1/5] END ....C=10, gamma=0.1, kernel=linear;, score=0.736 total time=  29.1s\n",
      "[CV 2/5] END ....C=10, gamma=0.1, kernel=linear;, score=0.754 total time=  27.1s\n",
      "[CV 3/5] END ....C=10, gamma=0.1, kernel=linear;, score=0.722 total time=  28.6s\n",
      "[CV 4/5] END ....C=10, gamma=0.1, kernel=linear;, score=0.750 total time=  29.4s\n",
      "[CV 5/5] END ....C=10, gamma=0.1, kernel=linear;, score=0.768 total time=  28.4s\n",
      "[CV 1/5] END ...C=10, gamma=0.01, kernel=linear;, score=0.736 total time=  27.9s\n",
      "[CV 2/5] END ...C=10, gamma=0.01, kernel=linear;, score=0.754 total time=  28.1s\n",
      "[CV 3/5] END ...C=10, gamma=0.01, kernel=linear;, score=0.722 total time=  27.8s\n",
      "[CV 4/5] END ...C=10, gamma=0.01, kernel=linear;, score=0.750 total time=  29.1s\n",
      "[CV 5/5] END ...C=10, gamma=0.01, kernel=linear;, score=0.768 total time=  28.8s\n",
      "[CV 1/5] END ..C=10, gamma=0.001, kernel=linear;, score=0.736 total time=  29.7s\n",
      "[CV 2/5] END ..C=10, gamma=0.001, kernel=linear;, score=0.754 total time=  28.0s\n",
      "[CV 3/5] END ..C=10, gamma=0.001, kernel=linear;, score=0.722 total time=  28.2s\n",
      "[CV 4/5] END ..C=10, gamma=0.001, kernel=linear;, score=0.750 total time=  29.5s\n",
      "[CV 5/5] END ..C=10, gamma=0.001, kernel=linear;, score=0.768 total time=  30.2s\n",
      "[CV 1/5] END .C=10, gamma=0.0001, kernel=linear;, score=0.736 total time=  31.1s\n"
     ]
    },
    {
     "name": "stderr",
     "output_type": "stream",
     "text": [
      "\n",
      "KeyboardInterrupt\n",
      "\n"
     ]
    }
   ],
   "source": [
    "grid.fit(X_train, y_train)\n"
   ]
  },
  {
   "cell_type": "code",
   "execution_count": 29,
   "id": "c58660b0",
   "metadata": {},
   "outputs": [
    {
     "name": "stdout",
     "output_type": "stream",
     "text": [
      "{'C': 0.1, 'gamma': 1, 'kernel': 'linear'}\n"
     ]
    }
   ],
   "source": [
    "print(grid.best_params_)\n"
   ]
  },
  {
   "cell_type": "code",
   "execution_count": null,
   "id": "8844f3be",
   "metadata": {},
   "outputs": [],
   "source": [
    "print(grid.best_estimator_)\n"
   ]
  },
  {
   "cell_type": "code",
   "execution_count": null,
   "id": "a0aaed4f",
   "metadata": {},
   "outputs": [],
   "source": [
    "grid_predictions = grid.predict(X_test)\n",
    "  \n",
    "# print classification report\n",
    "print(classification_report(y_test, grid_predictions))"
   ]
  },
  {
   "cell_type": "code",
   "execution_count": null,
   "id": "7ce569f1",
   "metadata": {},
   "outputs": [],
   "source": [
    "#test = ['ክፉውን መልካም፣ መልካሙን ክፉ፤ ጨለማን ብርሃን ፣ብርሃንን  ጨለማ፤ ጣፋጩን መራራ፣መራራውን ጣፋጭ የሚሉ( የሚያደርጉ) በሀገራችን በዙ።ጌታን እንፍራ ለኢትዮጵያ አንድነት።'\n",
    "        #, 'አታፍሩም ግን በየቀኑ ሰው ሲታረድ እየዋለ ትንፍሽ እንኳ የማትሉ ክብሪ ቢሶች፡ አንድ ቀን ለፍርድ መቅረባችሁ አይቀርም ደግሞ ታያላችሁ፡ ከህውሀት የማትማሩ ታናሾች????' ]\n",
    "test = ['ህወሓት ደሞ በተቃራኒው ስምምነቱ ዳር እንዳይደርስ በሙሉ ቁርጠኝነት እየሰራ ነዋ መንግሥት አለ እንዴ::','መንግሥት አለ እንዴ']\n",
    "test = clean_and_normalized_sentence(test,'')\n",
    "test = morphologicalAnalysis(test['msg'])\n",
    "unseen_df = pd.DataFrame({'msg':test}) \n",
    "\n"
   ]
  },
  {
   "cell_type": "code",
   "execution_count": null,
   "id": "c6ad02c2",
   "metadata": {},
   "outputs": [],
   "source": []
  },
  {
   "cell_type": "code",
   "execution_count": null,
   "id": "9aa3fb7d",
   "metadata": {},
   "outputs": [],
   "source": [
    "\n",
    "X_unseen = tfidfpro.transform(unseen_df['msg']).toarray()\n",
    "y_pred_unseen = svmtfTrainedModel.predict(X_unseen)\n",
    "\n",
    "print(y_pred_unseen.tolist())\n"
   ]
  },
  {
   "cell_type": "code",
   "execution_count": null,
   "id": "4ca9cae9",
   "metadata": {},
   "outputs": [],
   "source": [
    "\n"
   ]
  },
  {
   "cell_type": "code",
   "execution_count": null,
   "id": "43a47e33",
   "metadata": {},
   "outputs": [],
   "source": []
  },
  {
   "cell_type": "code",
   "execution_count": null,
   "id": "04de2705",
   "metadata": {},
   "outputs": [],
   "source": []
  },
  {
   "cell_type": "code",
   "execution_count": null,
   "id": "890f8b62",
   "metadata": {},
   "outputs": [],
   "source": []
  },
  {
   "cell_type": "code",
   "execution_count": null,
   "id": "fe995019",
   "metadata": {},
   "outputs": [],
   "source": []
  },
  {
   "cell_type": "code",
   "execution_count": null,
   "id": "fb244fea",
   "metadata": {},
   "outputs": [],
   "source": []
  }
 ],
 "metadata": {
  "kernelspec": {
   "display_name": "Python 3 (ipykernel)",
   "language": "python",
   "name": "python3"
  },
  "language_info": {
   "codemirror_mode": {
    "name": "ipython",
    "version": 3
   },
   "file_extension": ".py",
   "mimetype": "text/x-python",
   "name": "python",
   "nbconvert_exporter": "python",
   "pygments_lexer": "ipython3",
   "version": "3.11.1"
  }
 },
 "nbformat": 4,
 "nbformat_minor": 5
}
